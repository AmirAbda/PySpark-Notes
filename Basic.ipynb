{
  "nbformat": 4,
  "nbformat_minor": 0,
  "metadata": {
    "colab": {
      "provenance": []
    },
    "kernelspec": {
      "name": "python3",
      "display_name": "Python 3"
    },
    "language_info": {
      "name": "python"
    }
  },
  "cells": [
    {
      "cell_type": "code",
      "execution_count": 1,
      "metadata": {
        "colab": {
          "base_uri": "https://localhost:8080/"
        },
        "id": "sZU9f-TxP8IH",
        "outputId": "9f03f20f-5ca5-4c46-927e-4bbb521d81ec"
      },
      "outputs": [
        {
          "output_type": "stream",
          "name": "stdout",
          "text": [
            "Collecting pyspark\n",
            "  Downloading pyspark-3.5.1.tar.gz (317.0 MB)\n",
            "\u001b[2K     \u001b[90m━━━━━━━━━━━━━━━━━━━━━━━━━━━━━━━━━━━━━━━━\u001b[0m \u001b[32m317.0/317.0 MB\u001b[0m \u001b[31m2.4 MB/s\u001b[0m eta \u001b[36m0:00:00\u001b[0m\n",
            "\u001b[?25h  Preparing metadata (setup.py) ... \u001b[?25l\u001b[?25hdone\n",
            "Requirement already satisfied: py4j==0.10.9.7 in /usr/local/lib/python3.10/dist-packages (from pyspark) (0.10.9.7)\n",
            "Building wheels for collected packages: pyspark\n",
            "  Building wheel for pyspark (setup.py) ... \u001b[?25l\u001b[?25hdone\n",
            "  Created wheel for pyspark: filename=pyspark-3.5.1-py2.py3-none-any.whl size=317488491 sha256=0bb3bc6bfc807bcfbb1661cfc76979cbcc4a2b062ae75a69908284bdeb7272e7\n",
            "  Stored in directory: /root/.cache/pip/wheels/80/1d/60/2c256ed38dddce2fdd93be545214a63e02fbd8d74fb0b7f3a6\n",
            "Successfully built pyspark\n",
            "Installing collected packages: pyspark\n",
            "Successfully installed pyspark-3.5.1\n"
          ]
        }
      ],
      "source": [
        "!pip install pyspark"
      ]
    },
    {
      "cell_type": "code",
      "source": [
        "from pyspark.sql import SparkSession\n",
        "from pyspark.sql.functions import expr , col\n",
        "\n",
        "spark = SparkSession.builder.appName(\"Basic-Rdd\").getOrCreate()\n",
        "\n",
        "data = [(\"Alice\", 25), (\"Bob\", 30), (\"Charlie\", 22), (\"David\", 28)]\n",
        "columns = [\"Name\", \"Age\"]\n",
        "df = spark.createDataFrame(data, columns)\n",
        "df.show()"
      ],
      "metadata": {
        "colab": {
          "base_uri": "https://localhost:8080/"
        },
        "id": "Msf1ZXfQfABb",
        "outputId": "3dd52cd9-579d-4092-b943-49dc2062068f"
      },
      "execution_count": 18,
      "outputs": [
        {
          "output_type": "stream",
          "name": "stdout",
          "text": [
            "+-------+---+\n",
            "|   Name|Age|\n",
            "+-------+---+\n",
            "|  Alice| 25|\n",
            "|    Bob| 30|\n",
            "|Charlie| 22|\n",
            "|  David| 28|\n",
            "+-------+---+\n",
            "\n"
          ]
        }
      ]
    },
    {
      "cell_type": "code",
      "source": [
        "\"\"\" filter rows where age is greater than 25 \"\"\"\n",
        "filtered_df = df.filter(df[\"Age\"]>25)\n",
        "filtered_df.show()"
      ],
      "metadata": {
        "colab": {
          "base_uri": "https://localhost:8080/"
        },
        "id": "NxLNY5N_g3LR",
        "outputId": "1a646c3a-6605-4f76-a0e3-740266d8dd7a"
      },
      "execution_count": 19,
      "outputs": [
        {
          "output_type": "stream",
          "name": "stdout",
          "text": [
            "+-----+---+\n",
            "| Name|Age|\n",
            "+-----+---+\n",
            "|  Bob| 30|\n",
            "|David| 28|\n",
            "+-----+---+\n",
            "\n"
          ]
        }
      ]
    },
    {
      "cell_type": "code",
      "source": [
        "\"\"\" Calculte the average age of all people \"\"\"\n",
        "average_age = df.agg({\"Age\": \"avg\"}).collect()[0][0]\n",
        "print(f\"Average age: {average_age}\")"
      ],
      "metadata": {
        "colab": {
          "base_uri": "https://localhost:8080/"
        },
        "id": "4ltVHzEnhFFo",
        "outputId": "8022a02f-4425-4c9d-942e-350885bd1cd8"
      },
      "execution_count": 20,
      "outputs": [
        {
          "output_type": "stream",
          "name": "stdout",
          "text": [
            "Average age: 26.25\n"
          ]
        }
      ]
    },
    {
      "cell_type": "code",
      "source": [
        "\"\"\" Add a new column (e.g \"Status\") \"\"\"\n",
        "df_with_status = df.withColumn(\"Status\", expr(\"CASE WHEN Age >=30 THEN 'Senior' ELSE 'Junior' END\"))\n",
        "df_with_status.show()"
      ],
      "metadata": {
        "colab": {
          "base_uri": "https://localhost:8080/"
        },
        "id": "zU1SWXp2hLff",
        "outputId": "cf29602e-cd7d-48d6-a209-64071b53dc74"
      },
      "execution_count": 21,
      "outputs": [
        {
          "output_type": "stream",
          "name": "stdout",
          "text": [
            "+-------+---+------+\n",
            "|   Name|Age|Status|\n",
            "+-------+---+------+\n",
            "|  Alice| 25|Junior|\n",
            "|    Bob| 30|Senior|\n",
            "|Charlie| 22|Junior|\n",
            "|  David| 28|Junior|\n",
            "+-------+---+------+\n",
            "\n"
          ]
        }
      ]
    },
    {
      "cell_type": "code",
      "source": [
        "\"\"\" Group by age and count occurences  \"\"\"\n",
        "\n",
        "age_counts = df.groupBy(\"Age\").count()\n",
        "age_counts.show()"
      ],
      "metadata": {
        "colab": {
          "base_uri": "https://localhost:8080/"
        },
        "id": "0ve6-3XIhsfi",
        "outputId": "8968e709-5e5e-4c1b-9c0d-581a8c86b7c4"
      },
      "execution_count": 22,
      "outputs": [
        {
          "output_type": "stream",
          "name": "stdout",
          "text": [
            "+---+-----+\n",
            "|Age|count|\n",
            "+---+-----+\n",
            "| 25|    1|\n",
            "| 30|    1|\n",
            "| 22|    1|\n",
            "| 28|    1|\n",
            "+---+-----+\n",
            "\n"
          ]
        }
      ]
    },
    {
      "cell_type": "code",
      "source": [
        "\"\"\"  Rename the columns \"\"\"\n",
        "\n",
        "renamed_df = df.withColumnRenamed(\"Name\", \"Full_Name\").withColumnRenamed(\"Age\", \"Years\")\n",
        "renamed_df.show()\n"
      ],
      "metadata": {
        "colab": {
          "base_uri": "https://localhost:8080/"
        },
        "id": "wIqL38Dth_lw",
        "outputId": "23e474b7-ea3f-4b2e-d893-c2bea82b0b59"
      },
      "execution_count": 24,
      "outputs": [
        {
          "output_type": "stream",
          "name": "stdout",
          "text": [
            "+---------+-----+\n",
            "|Full_Name|Years|\n",
            "+---------+-----+\n",
            "|    Alice|   25|\n",
            "|      Bob|   30|\n",
            "|  Charlie|   22|\n",
            "|    David|   28|\n",
            "+---------+-----+\n",
            "\n"
          ]
        }
      ]
    },
    {
      "cell_type": "code",
      "source": [
        "\"\"\" Sort by age in descending order  \"\"\"\n",
        "sorted_df = df.orderBy(df[\"Age\"].desc())\n",
        "sorted_df.show()"
      ],
      "metadata": {
        "colab": {
          "base_uri": "https://localhost:8080/"
        },
        "id": "Sbw_qCTxidgo",
        "outputId": "3445014e-7e33-4d21-e471-605fbc88c268"
      },
      "execution_count": 25,
      "outputs": [
        {
          "output_type": "stream",
          "name": "stdout",
          "text": [
            "+-------+---+\n",
            "|   Name|Age|\n",
            "+-------+---+\n",
            "|    Bob| 30|\n",
            "|  David| 28|\n",
            "|  Alice| 25|\n",
            "|Charlie| 22|\n",
            "+-------+---+\n",
            "\n"
          ]
        }
      ]
    },
    {
      "cell_type": "code",
      "source": [
        "\"\"\"  Drop the \"Age\" column \"\"\"\n",
        "dropped_df = df.drop(\"Age\")\n",
        "dropped_df.show()"
      ],
      "metadata": {
        "colab": {
          "base_uri": "https://localhost:8080/"
        },
        "id": "jw7CLhP0ivPs",
        "outputId": "d7d14c0c-881a-46b2-f953-2394f94aac34"
      },
      "execution_count": 26,
      "outputs": [
        {
          "output_type": "stream",
          "name": "stdout",
          "text": [
            "+-------+\n",
            "|   Name|\n",
            "+-------+\n",
            "|  Alice|\n",
            "|    Bob|\n",
            "|Charlie|\n",
            "|  David|\n",
            "+-------+\n",
            "\n"
          ]
        }
      ]
    }
  ]
}